{
 "cells": [
  {
   "cell_type": "code",
   "execution_count": 1,
   "metadata": {},
   "outputs": [],
   "source": [
    "import json\n",
    "import os\n",
    "import shutil\n",
    "from google.cloud import bigquery\n",
    "from google.cloud import storage\n",
    "from jinja2 import Environment, FileSystemLoader, select_autoescape\n",
    "\n",
    "from datetime import datetime, timedelta\n",
    "from pytz import timezone\n",
    "from tzlocal import get_localzone"
   ]
  },
  {
   "cell_type": "code",
   "execution_count": 2,
   "metadata": {},
   "outputs": [],
   "source": [
    "project_id = \"\"\n",
    "dataset_id = \"\"\n",
    "basic_history_table = \"\"\n",
    "history_agg_table = \"\"\n",
    "final_rating_table = \"\"\n",
    "bucket_name = \"{Bucket Name}\""
   ]
  },
  {
   "cell_type": "code",
   "execution_count": 3,
   "metadata": {},
   "outputs": [],
   "source": [
    "# Construct a BigQuery client object.\n",
    "client = bigquery.Client()\n",
    "\n",
    "# Current time in UTC\n",
    "now_utc = datetime.now(timezone('Asia/Kolkata'))\n",
    "prediction_day = now_utc.strftime('%A')\n",
    "env = Environment(loader=FileSystemLoader('queries'))\n",
    "\n",
    "# Bucket object\n",
    "bucket = storage.Client().get_bucket(bucket_name)"
   ]
  },
  {
   "cell_type": "markdown",
   "metadata": {},
   "source": [
    "## Check the latest date of the basic history to update it"
   ]
  },
  {
   "cell_type": "code",
   "execution_count": 4,
   "metadata": {},
   "outputs": [],
   "source": [
    "basic_history_date_query = \"SELECT max(date) from `{}.{}.{}`\".format(\n",
    "    project_id,\n",
    "    dataset_id,\n",
    "    basic_history_table\n",
    ")\n",
    "\n",
    "basic_history_date_job = client.query(\n",
    "    basic_history_date_query\n",
    ")\n",
    "from_date = basic_history_date_job.to_dataframe().values.tolist()[0][0]\n",
    "from_date = (datetime.strptime(\n",
    "    from_date, \"%Y%m%d\"\n",
    ").date() + timedelta(days=1)).strftime(\"%Y%m%d\")\n",
    "\n",
    "to_date = now_utc.date() - timedelta(days=1)\n",
    "to_date = to_date.strftime(\"%Y%m%d\")"
   ]
  },
  {
   "cell_type": "markdown",
   "metadata": {},
   "source": [
    "## Update the basic history from the dates generated above"
   ]
  },
  {
   "cell_type": "code",
   "execution_count": 15,
   "metadata": {},
   "outputs": [
    {
     "name": "stdout",
     "output_type": "stream",
     "text": [
      "Query results loaded to the table quantum-flood-755.daily_serving_blog_reco.blog_basic_history\n"
     ]
    }
   ],
   "source": [
    "basic_history_template = env.get_template(\"basic_history.jinja2\")\n",
    "basic_history_query = basic_history_template.render(\n",
    "    from_date=from_date,\n",
    "    to_date=to_date\n",
    ")\n",
    "\n",
    "# Update the table\n",
    "basic_table_id = \"{}.{}.{}\".format(project_id, dataset_id, basic_history_table)\n",
    "job_config = bigquery.QueryJobConfig(destination=basic_table_id)\n",
    "\n",
    "# Create partitioned table\n",
    "day_partition = bigquery.TimePartitioning()\n",
    "job_config.time_partitioning = day_partition\n",
    "\n",
    "# Table Disposition\n",
    "job_config.write_disposition = bigquery.WriteDisposition.WRITE_APPEND\n",
    "job_config.create_disposition = bigquery.CreateDisposition.CREATE_IF_NEEDED\n",
    "\n",
    "# Start the query, passing in the extra configuration.\n",
    "query_job = client.query(basic_history_query, job_config=job_config)\n",
    "query_job.result()  # Wait for the job to complete.\n",
    "\n",
    "print(\"Query results loaded to the table {}\".format(basic_table_id))"
   ]
  },
  {
   "cell_type": "markdown",
   "metadata": {},
   "source": [
    "## Top Visited blogs in T-30 days"
   ]
  },
  {
   "cell_type": "code",
   "execution_count": 169,
   "metadata": {},
   "outputs": [],
   "source": [
    "top_visited_template = env.get_template(\"top_visited_blogs.jinja2\")\n",
    "top_visited_query = top_visited_template.render(\n",
    "    project_id=project_id,\n",
    "    dataset_id=dataset_id,\n",
    "    basic_history_table=basic_history_table\n",
    ")\n",
    "\n",
    "query_job = client.query(top_visited_query, job_config=job_config)\n",
    "top_blogs = query_job.to_dataframe()\n",
    "\n",
    "# Create dictionary for top visited blogs\n",
    "top_visited_blogs = {}\n",
    "top_visited_blogs['recommended_blogs'] = list(top_blogs['pagepath'].to_dict().values())\n",
    "\n",
    "# Upload the json to the gcs\n",
    "blob = bucket.blob(\"top_visited_blogs.json\")\n",
    "blob.upload_from_string(data=json.dumps(top_visited_blogs),content_type='application/json') "
   ]
  },
  {
   "cell_type": "markdown",
   "metadata": {},
   "source": [
    "## Prepare Rating from the timeonpage"
   ]
  },
  {
   "cell_type": "code",
   "execution_count": 11,
   "metadata": {},
   "outputs": [
    {
     "name": "stdout",
     "output_type": "stream",
     "text": [
      "Query results loaded to the table quantum-flood-755.daily_serving_blog_reco.blog_mf_data\n"
     ]
    }
   ],
   "source": [
    "final_rating_template = env.get_template(\"final_rating.jinja2\")\n",
    "final_rating_query = final_rating_template.render(\n",
    "    project_id=project_id,\n",
    "    dataset_id=dataset_id,\n",
    "    basic_history_table=basic_history_table\n",
    ")\n",
    "\n",
    "# Update the table\n",
    "rating_table_id = \"{}.{}.{}\".format(project_id, dataset_id, final_rating_table)\n",
    "job_config = bigquery.QueryJobConfig(destination=rating_table_id)\n",
    "\n",
    "\n",
    "# Table Disposition\n",
    "job_config.write_disposition = bigquery.WriteDisposition.WRITE_TRUNCATE\n",
    "job_config.create_disposition = bigquery.CreateDisposition.CREATE_IF_NEEDED\n",
    "\n",
    "# Start the query, passing in the extra configuration.\n",
    "query_job = client.query(final_rating_query, job_config=job_config)\n",
    "query_job.result()  # Wait for the job to complete.\n",
    "\n",
    "print(\"Query results loaded to the table {}\".format(rating_table_id))"
   ]
  },
  {
   "cell_type": "markdown",
   "metadata": {},
   "source": [
    "## Fetch the rating from the table"
   ]
  },
  {
   "cell_type": "code",
   "execution_count": 4,
   "metadata": {},
   "outputs": [],
   "source": [
    "import turicreate as tc\n",
    "import pandas as pd"
   ]
  },
  {
   "cell_type": "code",
   "execution_count": 5,
   "metadata": {},
   "outputs": [],
   "source": [
    "rating_data = \"\"\"SELECT * except(clientId), CONCAT(\"'\", clientId) as clientId FROM `{}.{}.{}`\"\"\".format(\n",
    "    project_id,\n",
    "    dataset_id,\n",
    "    final_rating_table\n",
    ")\n",
    "\n",
    "query_job = client.query(rating_data)\n",
    "main_rating_df = query_job.to_dataframe()"
   ]
  },
  {
   "cell_type": "code",
   "execution_count": 6,
   "metadata": {},
   "outputs": [
    {
     "data": {
      "text/html": [
       "<div>\n",
       "<style scoped>\n",
       "    .dataframe tbody tr th:only-of-type {\n",
       "        vertical-align: middle;\n",
       "    }\n",
       "\n",
       "    .dataframe tbody tr th {\n",
       "        vertical-align: top;\n",
       "    }\n",
       "\n",
       "    .dataframe thead th {\n",
       "        text-align: right;\n",
       "    }\n",
       "</style>\n",
       "<table border=\"1\" class=\"dataframe\">\n",
       "  <thead>\n",
       "    <tr style=\"text-align: right;\">\n",
       "      <th></th>\n",
       "      <th>blog</th>\n",
       "      <th>pagepath</th>\n",
       "      <th>rating</th>\n",
       "      <th>clientId</th>\n",
       "    </tr>\n",
       "  </thead>\n",
       "  <tbody>\n",
       "    <tr>\n",
       "      <th>0</th>\n",
       "      <td>national-pension-scheme-and-nps-work</td>\n",
       "      <td>/blogs/miscellaneous/national-pension-scheme-a...</td>\n",
       "      <td>0.282959</td>\n",
       "      <td>'1000085904.1632291810</td>\n",
       "    </tr>\n",
       "    <tr>\n",
       "      <th>1</th>\n",
       "      <td>investing-in-nps-for-retirement-saving</td>\n",
       "      <td>/blogs/nps/investing-in-nps-for-retirement-sav...</td>\n",
       "      <td>0.929877</td>\n",
       "      <td>'1000085904.1632291810</td>\n",
       "    </tr>\n",
       "    <tr>\n",
       "      <th>2</th>\n",
       "      <td>what-is-the-mclr-and-how-does-it-affect-the-ec...</td>\n",
       "      <td>/blogs/personal-loan/what-is-the-mclr-and-how-...</td>\n",
       "      <td>0.035423</td>\n",
       "      <td>'1000168273.1633060672</td>\n",
       "    </tr>\n",
       "    <tr>\n",
       "      <th>3</th>\n",
       "      <td>do-you-use-credit-card-know-the-pros-and-cons</td>\n",
       "      <td>/blogs/credit-card/do-you-use-credit-card-know...</td>\n",
       "      <td>0.833788</td>\n",
       "      <td>'1000238702.1633184250</td>\n",
       "    </tr>\n",
       "    <tr>\n",
       "      <th>4</th>\n",
       "      <td>what-is-home-loan</td>\n",
       "      <td>/blogs/home-loan/what-is-home-loan.page</td>\n",
       "      <td>0.639788</td>\n",
       "      <td>'1000300182.1633274296</td>\n",
       "    </tr>\n",
       "    <tr>\n",
       "      <th>...</th>\n",
       "      <td>...</td>\n",
       "      <td>...</td>\n",
       "      <td>...</td>\n",
       "      <td>...</td>\n",
       "    </tr>\n",
       "    <tr>\n",
       "      <th>71434</th>\n",
       "      <td>everything-you-need-to-know-about-credit-card-...</td>\n",
       "      <td>/blogs/credit-card/everything-you-need-to-know...</td>\n",
       "      <td>0.236486</td>\n",
       "      <td>'986109707.1608819612</td>\n",
       "    </tr>\n",
       "    <tr>\n",
       "      <th>71435</th>\n",
       "      <td>everything-you-need-to-know-about-credit-card-...</td>\n",
       "      <td>/blogs/credit-card/everything-you-need-to-know...</td>\n",
       "      <td>0.041424</td>\n",
       "      <td>'987302482.1624551974</td>\n",
       "    </tr>\n",
       "    <tr>\n",
       "      <th>71436</th>\n",
       "      <td>everything-you-need-to-know-about-credit-card-...</td>\n",
       "      <td>/blogs/credit-card/everything-you-need-to-know...</td>\n",
       "      <td>0.084726</td>\n",
       "      <td>'989028703.1631952181</td>\n",
       "    </tr>\n",
       "    <tr>\n",
       "      <th>71437</th>\n",
       "      <td>everything-you-need-to-know-about-credit-card-...</td>\n",
       "      <td>/blogs/credit-card/everything-you-need-to-know...</td>\n",
       "      <td>0.030706</td>\n",
       "      <td>'989917153.1633102225</td>\n",
       "    </tr>\n",
       "    <tr>\n",
       "      <th>71438</th>\n",
       "      <td>everything-you-need-to-know-about-credit-card-...</td>\n",
       "      <td>/blogs/credit-card/everything-you-need-to-know...</td>\n",
       "      <td>0.028169</td>\n",
       "      <td>'995052906.1632236025</td>\n",
       "    </tr>\n",
       "  </tbody>\n",
       "</table>\n",
       "<p>71439 rows × 4 columns</p>\n",
       "</div>"
      ],
      "text/plain": [
       "                                                    blog  \\\n",
       "0                   national-pension-scheme-and-nps-work   \n",
       "1                 investing-in-nps-for-retirement-saving   \n",
       "2      what-is-the-mclr-and-how-does-it-affect-the-ec...   \n",
       "3          do-you-use-credit-card-know-the-pros-and-cons   \n",
       "4                                      what-is-home-loan   \n",
       "...                                                  ...   \n",
       "71434  everything-you-need-to-know-about-credit-card-...   \n",
       "71435  everything-you-need-to-know-about-credit-card-...   \n",
       "71436  everything-you-need-to-know-about-credit-card-...   \n",
       "71437  everything-you-need-to-know-about-credit-card-...   \n",
       "71438  everything-you-need-to-know-about-credit-card-...   \n",
       "\n",
       "                                                pagepath    rating  \\\n",
       "0      /blogs/miscellaneous/national-pension-scheme-a...  0.282959   \n",
       "1      /blogs/nps/investing-in-nps-for-retirement-sav...  0.929877   \n",
       "2      /blogs/personal-loan/what-is-the-mclr-and-how-...  0.035423   \n",
       "3      /blogs/credit-card/do-you-use-credit-card-know...  0.833788   \n",
       "4                /blogs/home-loan/what-is-home-loan.page  0.639788   \n",
       "...                                                  ...       ...   \n",
       "71434  /blogs/credit-card/everything-you-need-to-know...  0.236486   \n",
       "71435  /blogs/credit-card/everything-you-need-to-know...  0.041424   \n",
       "71436  /blogs/credit-card/everything-you-need-to-know...  0.084726   \n",
       "71437  /blogs/credit-card/everything-you-need-to-know...  0.030706   \n",
       "71438  /blogs/credit-card/everything-you-need-to-know...  0.028169   \n",
       "\n",
       "                     clientId  \n",
       "0      '1000085904.1632291810  \n",
       "1      '1000085904.1632291810  \n",
       "2      '1000168273.1633060672  \n",
       "3      '1000238702.1633184250  \n",
       "4      '1000300182.1633274296  \n",
       "...                       ...  \n",
       "71434   '986109707.1608819612  \n",
       "71435   '987302482.1624551974  \n",
       "71436   '989028703.1631952181  \n",
       "71437   '989917153.1633102225  \n",
       "71438   '995052906.1632236025  \n",
       "\n",
       "[71439 rows x 4 columns]"
      ]
     },
     "execution_count": 6,
     "metadata": {},
     "output_type": "execute_result"
    }
   ],
   "source": [
    "main_rating_df"
   ]
  },
  {
   "cell_type": "code",
   "execution_count": 7,
   "metadata": {},
   "outputs": [],
   "source": [
    "rating_df = main_rating_df[['clientId', 'blog', 'rating']]\n",
    "rating_df = rating_df.groupby(['clientId', 'blog']).agg({'rating': 'mean'}).reset_index()\n",
    "rating_df[\"clientId\"] = rating_df['clientId'].apply(lambda x: x.lstrip(\"'\")) "
   ]
  },
  {
   "cell_type": "code",
   "execution_count": 8,
   "metadata": {},
   "outputs": [
    {
     "data": {
      "text/html": [
       "<pre>Preparing data set.</pre>"
      ],
      "text/plain": [
       "Preparing data set."
      ]
     },
     "metadata": {},
     "output_type": "display_data"
    },
    {
     "data": {
      "text/html": [
       "<pre>    Data has 71271 observations with 66922 users and 569 items.</pre>"
      ],
      "text/plain": [
       "    Data has 71271 observations with 66922 users and 569 items."
      ]
     },
     "metadata": {},
     "output_type": "display_data"
    },
    {
     "data": {
      "text/html": [
       "<pre>    Data prepared in: 0.15331s</pre>"
      ],
      "text/plain": [
       "    Data prepared in: 0.15331s"
      ]
     },
     "metadata": {},
     "output_type": "display_data"
    },
    {
     "data": {
      "text/html": [
       "<pre>Training model from provided data.</pre>"
      ],
      "text/plain": [
       "Training model from provided data."
      ]
     },
     "metadata": {},
     "output_type": "display_data"
    },
    {
     "data": {
      "text/html": [
       "<pre>Gathering per-item and per-user statistics.</pre>"
      ],
      "text/plain": [
       "Gathering per-item and per-user statistics."
      ]
     },
     "metadata": {},
     "output_type": "display_data"
    },
    {
     "data": {
      "text/html": [
       "<pre>+--------------------------------+------------+</pre>"
      ],
      "text/plain": [
       "+--------------------------------+------------+"
      ]
     },
     "metadata": {},
     "output_type": "display_data"
    },
    {
     "data": {
      "text/html": [
       "<pre>| Elapsed Time (Item Statistics) | % Complete |</pre>"
      ],
      "text/plain": [
       "| Elapsed Time (Item Statistics) | % Complete |"
      ]
     },
     "metadata": {},
     "output_type": "display_data"
    },
    {
     "data": {
      "text/html": [
       "<pre>+--------------------------------+------------+</pre>"
      ],
      "text/plain": [
       "+--------------------------------+------------+"
      ]
     },
     "metadata": {},
     "output_type": "display_data"
    },
    {
     "data": {
      "text/html": [
       "<pre>| 889us                          | 1.25       |</pre>"
      ],
      "text/plain": [
       "| 889us                          | 1.25       |"
      ]
     },
     "metadata": {},
     "output_type": "display_data"
    },
    {
     "data": {
      "text/html": [
       "<pre>| 16.161ms                       | 100        |</pre>"
      ],
      "text/plain": [
       "| 16.161ms                       | 100        |"
      ]
     },
     "metadata": {},
     "output_type": "display_data"
    },
    {
     "data": {
      "text/html": [
       "<pre>+--------------------------------+------------+</pre>"
      ],
      "text/plain": [
       "+--------------------------------+------------+"
      ]
     },
     "metadata": {},
     "output_type": "display_data"
    },
    {
     "data": {
      "text/html": [
       "<pre>Setting up lookup tables.</pre>"
      ],
      "text/plain": [
       "Setting up lookup tables."
      ]
     },
     "metadata": {},
     "output_type": "display_data"
    },
    {
     "data": {
      "text/html": [
       "<pre>Processing data in one pass using dense lookup tables.</pre>"
      ],
      "text/plain": [
       "Processing data in one pass using dense lookup tables."
      ]
     },
     "metadata": {},
     "output_type": "display_data"
    },
    {
     "data": {
      "text/html": [
       "<pre>+-------------------------------------+------------------+-----------------+</pre>"
      ],
      "text/plain": [
       "+-------------------------------------+------------------+-----------------+"
      ]
     },
     "metadata": {},
     "output_type": "display_data"
    },
    {
     "data": {
      "text/html": [
       "<pre>| Elapsed Time (Constructing Lookups) | Total % Complete | Items Processed |</pre>"
      ],
      "text/plain": [
       "| Elapsed Time (Constructing Lookups) | Total % Complete | Items Processed |"
      ]
     },
     "metadata": {},
     "output_type": "display_data"
    },
    {
     "data": {
      "text/html": [
       "<pre>+-------------------------------------+------------------+-----------------+</pre>"
      ],
      "text/plain": [
       "+-------------------------------------+------------------+-----------------+"
      ]
     },
     "metadata": {},
     "output_type": "display_data"
    },
    {
     "data": {
      "text/html": [
       "<pre>| 18.887ms                            | 0                | 0               |</pre>"
      ],
      "text/plain": [
       "| 18.887ms                            | 0                | 0               |"
      ]
     },
     "metadata": {},
     "output_type": "display_data"
    },
    {
     "data": {
      "text/html": [
       "<pre>| 44.681ms                            | 100              | 569             |</pre>"
      ],
      "text/plain": [
       "| 44.681ms                            | 100              | 569             |"
      ]
     },
     "metadata": {},
     "output_type": "display_data"
    },
    {
     "data": {
      "text/html": [
       "<pre>+-------------------------------------+------------------+-----------------+</pre>"
      ],
      "text/plain": [
       "+-------------------------------------+------------------+-----------------+"
      ]
     },
     "metadata": {},
     "output_type": "display_data"
    },
    {
     "data": {
      "text/html": [
       "<pre>Finalizing lookup tables.</pre>"
      ],
      "text/plain": [
       "Finalizing lookup tables."
      ]
     },
     "metadata": {},
     "output_type": "display_data"
    },
    {
     "data": {
      "text/html": [
       "<pre>Generating candidate set for working with new users.</pre>"
      ],
      "text/plain": [
       "Generating candidate set for working with new users."
      ]
     },
     "metadata": {},
     "output_type": "display_data"
    },
    {
     "data": {
      "text/html": [
       "<pre>Finished training in 1.05897s</pre>"
      ],
      "text/plain": [
       "Finished training in 1.05897s"
      ]
     },
     "metadata": {},
     "output_type": "display_data"
    }
   ],
   "source": [
    "actions = tc.SFrame(rating_df)\n",
    "model = tc.recommender.item_similarity_recommender.create(actions, 'clientId', 'blog', target=\"rating\")"
   ]
  },
  {
   "cell_type": "code",
   "execution_count": 9,
   "metadata": {
    "collapsed": true,
    "jupyter": {
     "outputs_hidden": true
    }
   },
   "outputs": [
    {
     "data": {
      "text/html": [
       "<pre>recommendations finished on 1000/66922 queries. users per second: 84860.8</pre>"
      ],
      "text/plain": [
       "recommendations finished on 1000/66922 queries. users per second: 84860.8"
      ]
     },
     "metadata": {},
     "output_type": "display_data"
    },
    {
     "data": {
      "text/html": [
       "<pre>recommendations finished on 2000/66922 queries. users per second: 88523</pre>"
      ],
      "text/plain": [
       "recommendations finished on 2000/66922 queries. users per second: 88523"
      ]
     },
     "metadata": {},
     "output_type": "display_data"
    },
    {
     "data": {
      "text/html": [
       "<pre>recommendations finished on 3000/66922 queries. users per second: 89637.9</pre>"
      ],
      "text/plain": [
       "recommendations finished on 3000/66922 queries. users per second: 89637.9"
      ]
     },
     "metadata": {},
     "output_type": "display_data"
    },
    {
     "data": {
      "text/html": [
       "<pre>recommendations finished on 4000/66922 queries. users per second: 87408.8</pre>"
      ],
      "text/plain": [
       "recommendations finished on 4000/66922 queries. users per second: 87408.8"
      ]
     },
     "metadata": {},
     "output_type": "display_data"
    },
    {
     "data": {
      "text/html": [
       "<pre>recommendations finished on 5000/66922 queries. users per second: 88691.8</pre>"
      ],
      "text/plain": [
       "recommendations finished on 5000/66922 queries. users per second: 88691.8"
      ]
     },
     "metadata": {},
     "output_type": "display_data"
    },
    {
     "data": {
      "text/html": [
       "<pre>recommendations finished on 6000/66922 queries. users per second: 89106.7</pre>"
      ],
      "text/plain": [
       "recommendations finished on 6000/66922 queries. users per second: 89106.7"
      ]
     },
     "metadata": {},
     "output_type": "display_data"
    },
    {
     "data": {
      "text/html": [
       "<pre>recommendations finished on 7000/66922 queries. users per second: 89258.4</pre>"
      ],
      "text/plain": [
       "recommendations finished on 7000/66922 queries. users per second: 89258.4"
      ]
     },
     "metadata": {},
     "output_type": "display_data"
    },
    {
     "data": {
      "text/html": [
       "<pre>recommendations finished on 8000/66922 queries. users per second: 86339.9</pre>"
      ],
      "text/plain": [
       "recommendations finished on 8000/66922 queries. users per second: 86339.9"
      ]
     },
     "metadata": {},
     "output_type": "display_data"
    },
    {
     "data": {
      "text/html": [
       "<pre>recommendations finished on 9000/66922 queries. users per second: 87283.7</pre>"
      ],
      "text/plain": [
       "recommendations finished on 9000/66922 queries. users per second: 87283.7"
      ]
     },
     "metadata": {},
     "output_type": "display_data"
    },
    {
     "data": {
      "text/html": [
       "<pre>recommendations finished on 10000/66922 queries. users per second: 86638.6</pre>"
      ],
      "text/plain": [
       "recommendations finished on 10000/66922 queries. users per second: 86638.6"
      ]
     },
     "metadata": {},
     "output_type": "display_data"
    },
    {
     "data": {
      "text/html": [
       "<pre>recommendations finished on 11000/66922 queries. users per second: 86555.6</pre>"
      ],
      "text/plain": [
       "recommendations finished on 11000/66922 queries. users per second: 86555.6"
      ]
     },
     "metadata": {},
     "output_type": "display_data"
    },
    {
     "data": {
      "text/html": [
       "<pre>recommendations finished on 12000/66922 queries. users per second: 86603.8</pre>"
      ],
      "text/plain": [
       "recommendations finished on 12000/66922 queries. users per second: 86603.8"
      ]
     },
     "metadata": {},
     "output_type": "display_data"
    },
    {
     "data": {
      "text/html": [
       "<pre>recommendations finished on 13000/66922 queries. users per second: 86671.9</pre>"
      ],
      "text/plain": [
       "recommendations finished on 13000/66922 queries. users per second: 86671.9"
      ]
     },
     "metadata": {},
     "output_type": "display_data"
    },
    {
     "data": {
      "text/html": [
       "<pre>recommendations finished on 14000/66922 queries. users per second: 87559.7</pre>"
      ],
      "text/plain": [
       "recommendations finished on 14000/66922 queries. users per second: 87559.7"
      ]
     },
     "metadata": {},
     "output_type": "display_data"
    },
    {
     "data": {
      "text/html": [
       "<pre>recommendations finished on 15000/66922 queries. users per second: 86316</pre>"
      ],
      "text/plain": [
       "recommendations finished on 15000/66922 queries. users per second: 86316"
      ]
     },
     "metadata": {},
     "output_type": "display_data"
    },
    {
     "data": {
      "text/html": [
       "<pre>recommendations finished on 16000/66922 queries. users per second: 87202.5</pre>"
      ],
      "text/plain": [
       "recommendations finished on 16000/66922 queries. users per second: 87202.5"
      ]
     },
     "metadata": {},
     "output_type": "display_data"
    },
    {
     "data": {
      "text/html": [
       "<pre>recommendations finished on 17000/66922 queries. users per second: 87089.7</pre>"
      ],
      "text/plain": [
       "recommendations finished on 17000/66922 queries. users per second: 87089.7"
      ]
     },
     "metadata": {},
     "output_type": "display_data"
    },
    {
     "data": {
      "text/html": [
       "<pre>recommendations finished on 18000/66922 queries. users per second: 86772.1</pre>"
      ],
      "text/plain": [
       "recommendations finished on 18000/66922 queries. users per second: 86772.1"
      ]
     },
     "metadata": {},
     "output_type": "display_data"
    },
    {
     "data": {
      "text/html": [
       "<pre>recommendations finished on 19000/66922 queries. users per second: 87688.5</pre>"
      ],
      "text/plain": [
       "recommendations finished on 19000/66922 queries. users per second: 87688.5"
      ]
     },
     "metadata": {},
     "output_type": "display_data"
    },
    {
     "data": {
      "text/html": [
       "<pre>recommendations finished on 20000/66922 queries. users per second: 87688.5</pre>"
      ],
      "text/plain": [
       "recommendations finished on 20000/66922 queries. users per second: 87688.5"
      ]
     },
     "metadata": {},
     "output_type": "display_data"
    },
    {
     "data": {
      "text/html": [
       "<pre>recommendations finished on 21000/66922 queries. users per second: 88565</pre>"
      ],
      "text/plain": [
       "recommendations finished on 21000/66922 queries. users per second: 88565"
      ]
     },
     "metadata": {},
     "output_type": "display_data"
    },
    {
     "data": {
      "text/html": [
       "<pre>recommendations finished on 22000/66922 queries. users per second: 88751.9</pre>"
      ],
      "text/plain": [
       "recommendations finished on 22000/66922 queries. users per second: 88751.9"
      ]
     },
     "metadata": {},
     "output_type": "display_data"
    },
    {
     "data": {
      "text/html": [
       "<pre>recommendations finished on 23000/66922 queries. users per second: 88759.9</pre>"
      ],
      "text/plain": [
       "recommendations finished on 23000/66922 queries. users per second: 88759.9"
      ]
     },
     "metadata": {},
     "output_type": "display_data"
    },
    {
     "data": {
      "text/html": [
       "<pre>recommendations finished on 24000/66922 queries. users per second: 88087.6</pre>"
      ],
      "text/plain": [
       "recommendations finished on 24000/66922 queries. users per second: 88087.6"
      ]
     },
     "metadata": {},
     "output_type": "display_data"
    },
    {
     "data": {
      "text/html": [
       "<pre>recommendations finished on 25000/66922 queries. users per second: 88387.6</pre>"
      ],
      "text/plain": [
       "recommendations finished on 25000/66922 queries. users per second: 88387.6"
      ]
     },
     "metadata": {},
     "output_type": "display_data"
    },
    {
     "data": {
      "text/html": [
       "<pre>recommendations finished on 26000/66922 queries. users per second: 88384.3</pre>"
      ],
      "text/plain": [
       "recommendations finished on 26000/66922 queries. users per second: 88384.3"
      ]
     },
     "metadata": {},
     "output_type": "display_data"
    },
    {
     "data": {
      "text/html": [
       "<pre>recommendations finished on 27000/66922 queries. users per second: 88915.8</pre>"
      ],
      "text/plain": [
       "recommendations finished on 27000/66922 queries. users per second: 88915.8"
      ]
     },
     "metadata": {},
     "output_type": "display_data"
    },
    {
     "data": {
      "text/html": [
       "<pre>recommendations finished on 28000/66922 queries. users per second: 88123.5</pre>"
      ],
      "text/plain": [
       "recommendations finished on 28000/66922 queries. users per second: 88123.5"
      ]
     },
     "metadata": {},
     "output_type": "display_data"
    },
    {
     "data": {
      "text/html": [
       "<pre>recommendations finished on 29000/66922 queries. users per second: 88098.5</pre>"
      ],
      "text/plain": [
       "recommendations finished on 29000/66922 queries. users per second: 88098.5"
      ]
     },
     "metadata": {},
     "output_type": "display_data"
    },
    {
     "data": {
      "text/html": [
       "<pre>recommendations finished on 30000/66922 queries. users per second: 87684.2</pre>"
      ],
      "text/plain": [
       "recommendations finished on 30000/66922 queries. users per second: 87684.2"
      ]
     },
     "metadata": {},
     "output_type": "display_data"
    },
    {
     "data": {
      "text/html": [
       "<pre>recommendations finished on 31000/66922 queries. users per second: 87906.9</pre>"
      ],
      "text/plain": [
       "recommendations finished on 31000/66922 queries. users per second: 87906.9"
      ]
     },
     "metadata": {},
     "output_type": "display_data"
    },
    {
     "data": {
      "text/html": [
       "<pre>recommendations finished on 32000/66922 queries. users per second: 88107.7</pre>"
      ],
      "text/plain": [
       "recommendations finished on 32000/66922 queries. users per second: 88107.7"
      ]
     },
     "metadata": {},
     "output_type": "display_data"
    },
    {
     "data": {
      "text/html": [
       "<pre>recommendations finished on 33000/66922 queries. users per second: 88203.5</pre>"
      ],
      "text/plain": [
       "recommendations finished on 33000/66922 queries. users per second: 88203.5"
      ]
     },
     "metadata": {},
     "output_type": "display_data"
    },
    {
     "data": {
      "text/html": [
       "<pre>recommendations finished on 34000/66922 queries. users per second: 88633.5</pre>"
      ],
      "text/plain": [
       "recommendations finished on 34000/66922 queries. users per second: 88633.5"
      ]
     },
     "metadata": {},
     "output_type": "display_data"
    },
    {
     "data": {
      "text/html": [
       "<pre>recommendations finished on 35000/66922 queries. users per second: 88792.6</pre>"
      ],
      "text/plain": [
       "recommendations finished on 35000/66922 queries. users per second: 88792.6"
      ]
     },
     "metadata": {},
     "output_type": "display_data"
    },
    {
     "data": {
      "text/html": [
       "<pre>recommendations finished on 36000/66922 queries. users per second: 88997</pre>"
      ],
      "text/plain": [
       "recommendations finished on 36000/66922 queries. users per second: 88997"
      ]
     },
     "metadata": {},
     "output_type": "display_data"
    },
    {
     "data": {
      "text/html": [
       "<pre>recommendations finished on 37000/66922 queries. users per second: 88354.6</pre>"
      ],
      "text/plain": [
       "recommendations finished on 37000/66922 queries. users per second: 88354.6"
      ]
     },
     "metadata": {},
     "output_type": "display_data"
    },
    {
     "data": {
      "text/html": [
       "<pre>recommendations finished on 38000/66922 queries. users per second: 88399.8</pre>"
      ],
      "text/plain": [
       "recommendations finished on 38000/66922 queries. users per second: 88399.8"
      ]
     },
     "metadata": {},
     "output_type": "display_data"
    },
    {
     "data": {
      "text/html": [
       "<pre>recommendations finished on 39000/66922 queries. users per second: 88852.6</pre>"
      ],
      "text/plain": [
       "recommendations finished on 39000/66922 queries. users per second: 88852.6"
      ]
     },
     "metadata": {},
     "output_type": "display_data"
    },
    {
     "data": {
      "text/html": [
       "<pre>recommendations finished on 40000/66922 queries. users per second: 89038.1</pre>"
      ],
      "text/plain": [
       "recommendations finished on 40000/66922 queries. users per second: 89038.1"
      ]
     },
     "metadata": {},
     "output_type": "display_data"
    },
    {
     "data": {
      "text/html": [
       "<pre>recommendations finished on 41000/66922 queries. users per second: 89018.2</pre>"
      ],
      "text/plain": [
       "recommendations finished on 41000/66922 queries. users per second: 89018.2"
      ]
     },
     "metadata": {},
     "output_type": "display_data"
    },
    {
     "data": {
      "text/html": [
       "<pre>recommendations finished on 42000/66922 queries. users per second: 89052.9</pre>"
      ],
      "text/plain": [
       "recommendations finished on 42000/66922 queries. users per second: 89052.9"
      ]
     },
     "metadata": {},
     "output_type": "display_data"
    },
    {
     "data": {
      "text/html": [
       "<pre>recommendations finished on 43000/66922 queries. users per second: 88602.4</pre>"
      ],
      "text/plain": [
       "recommendations finished on 43000/66922 queries. users per second: 88602.4"
      ]
     },
     "metadata": {},
     "output_type": "display_data"
    },
    {
     "data": {
      "text/html": [
       "<pre>recommendations finished on 44000/66922 queries. users per second: 88652.5</pre>"
      ],
      "text/plain": [
       "recommendations finished on 44000/66922 queries. users per second: 88652.5"
      ]
     },
     "metadata": {},
     "output_type": "display_data"
    },
    {
     "data": {
      "text/html": [
       "<pre>recommendations finished on 45000/66922 queries. users per second: 89050.7</pre>"
      ],
      "text/plain": [
       "recommendations finished on 45000/66922 queries. users per second: 89050.7"
      ]
     },
     "metadata": {},
     "output_type": "display_data"
    },
    {
     "data": {
      "text/html": [
       "<pre>recommendations finished on 46000/66922 queries. users per second: 88665.1</pre>"
      ],
      "text/plain": [
       "recommendations finished on 46000/66922 queries. users per second: 88665.1"
      ]
     },
     "metadata": {},
     "output_type": "display_data"
    },
    {
     "data": {
      "text/html": [
       "<pre>recommendations finished on 47000/66922 queries. users per second: 88996.6</pre>"
      ],
      "text/plain": [
       "recommendations finished on 47000/66922 queries. users per second: 88996.6"
      ]
     },
     "metadata": {},
     "output_type": "display_data"
    },
    {
     "data": {
      "text/html": [
       "<pre>recommendations finished on 48000/66922 queries. users per second: 89266.5</pre>"
      ],
      "text/plain": [
       "recommendations finished on 48000/66922 queries. users per second: 89266.5"
      ]
     },
     "metadata": {},
     "output_type": "display_data"
    },
    {
     "data": {
      "text/html": [
       "<pre>recommendations finished on 49000/66922 queries. users per second: 89122.8</pre>"
      ],
      "text/plain": [
       "recommendations finished on 49000/66922 queries. users per second: 89122.8"
      ]
     },
     "metadata": {},
     "output_type": "display_data"
    },
    {
     "data": {
      "text/html": [
       "<pre>recommendations finished on 50000/66922 queries. users per second: 89086.2</pre>"
      ],
      "text/plain": [
       "recommendations finished on 50000/66922 queries. users per second: 89086.2"
      ]
     },
     "metadata": {},
     "output_type": "display_data"
    },
    {
     "data": {
      "text/html": [
       "<pre>recommendations finished on 51000/66922 queries. users per second: 88722.8</pre>"
      ],
      "text/plain": [
       "recommendations finished on 51000/66922 queries. users per second: 88722.8"
      ]
     },
     "metadata": {},
     "output_type": "display_data"
    },
    {
     "data": {
      "text/html": [
       "<pre>recommendations finished on 52000/66922 queries. users per second: 88973.8</pre>"
      ],
      "text/plain": [
       "recommendations finished on 52000/66922 queries. users per second: 88973.8"
      ]
     },
     "metadata": {},
     "output_type": "display_data"
    },
    {
     "data": {
      "text/html": [
       "<pre>recommendations finished on 53000/66922 queries. users per second: 89235.4</pre>"
      ],
      "text/plain": [
       "recommendations finished on 53000/66922 queries. users per second: 89235.4"
      ]
     },
     "metadata": {},
     "output_type": "display_data"
    },
    {
     "data": {
      "text/html": [
       "<pre>recommendations finished on 54000/66922 queries. users per second: 89109.4</pre>"
      ],
      "text/plain": [
       "recommendations finished on 54000/66922 queries. users per second: 89109.4"
      ]
     },
     "metadata": {},
     "output_type": "display_data"
    },
    {
     "data": {
      "text/html": [
       "<pre>recommendations finished on 55000/66922 queries. users per second: 89294.8</pre>"
      ],
      "text/plain": [
       "recommendations finished on 55000/66922 queries. users per second: 89294.8"
      ]
     },
     "metadata": {},
     "output_type": "display_data"
    },
    {
     "data": {
      "text/html": [
       "<pre>recommendations finished on 56000/66922 queries. users per second: 89062.3</pre>"
      ],
      "text/plain": [
       "recommendations finished on 56000/66922 queries. users per second: 89062.3"
      ]
     },
     "metadata": {},
     "output_type": "display_data"
    },
    {
     "data": {
      "text/html": [
       "<pre>recommendations finished on 57000/66922 queries. users per second: 89107.5</pre>"
      ],
      "text/plain": [
       "recommendations finished on 57000/66922 queries. users per second: 89107.5"
      ]
     },
     "metadata": {},
     "output_type": "display_data"
    },
    {
     "data": {
      "text/html": [
       "<pre>recommendations finished on 58000/66922 queries. users per second: 88939.5</pre>"
      ],
      "text/plain": [
       "recommendations finished on 58000/66922 queries. users per second: 88939.5"
      ]
     },
     "metadata": {},
     "output_type": "display_data"
    },
    {
     "data": {
      "text/html": [
       "<pre>recommendations finished on 59000/66922 queries. users per second: 89124.3</pre>"
      ],
      "text/plain": [
       "recommendations finished on 59000/66922 queries. users per second: 89124.3"
      ]
     },
     "metadata": {},
     "output_type": "display_data"
    },
    {
     "data": {
      "text/html": [
       "<pre>recommendations finished on 60000/66922 queries. users per second: 89227.7</pre>"
      ],
      "text/plain": [
       "recommendations finished on 60000/66922 queries. users per second: 89227.7"
      ]
     },
     "metadata": {},
     "output_type": "display_data"
    },
    {
     "data": {
      "text/html": [
       "<pre>recommendations finished on 61000/66922 queries. users per second: 89233.2</pre>"
      ],
      "text/plain": [
       "recommendations finished on 61000/66922 queries. users per second: 89233.2"
      ]
     },
     "metadata": {},
     "output_type": "display_data"
    },
    {
     "data": {
      "text/html": [
       "<pre>recommendations finished on 62000/66922 queries. users per second: 89235.2</pre>"
      ],
      "text/plain": [
       "recommendations finished on 62000/66922 queries. users per second: 89235.2"
      ]
     },
     "metadata": {},
     "output_type": "display_data"
    },
    {
     "data": {
      "text/html": [
       "<pre>recommendations finished on 63000/66922 queries. users per second: 89282.9</pre>"
      ],
      "text/plain": [
       "recommendations finished on 63000/66922 queries. users per second: 89282.9"
      ]
     },
     "metadata": {},
     "output_type": "display_data"
    },
    {
     "data": {
      "text/html": [
       "<pre>recommendations finished on 64000/66922 queries. users per second: 89034.3</pre>"
      ],
      "text/plain": [
       "recommendations finished on 64000/66922 queries. users per second: 89034.3"
      ]
     },
     "metadata": {},
     "output_type": "display_data"
    },
    {
     "data": {
      "text/html": [
       "<pre>recommendations finished on 65000/66922 queries. users per second: 88787.9</pre>"
      ],
      "text/plain": [
       "recommendations finished on 65000/66922 queries. users per second: 88787.9"
      ]
     },
     "metadata": {},
     "output_type": "display_data"
    },
    {
     "data": {
      "text/html": [
       "<pre>recommendations finished on 66000/66922 queries. users per second: 88634.5</pre>"
      ],
      "text/plain": [
       "recommendations finished on 66000/66922 queries. users per second: 88634.5"
      ]
     },
     "metadata": {},
     "output_type": "display_data"
    }
   ],
   "source": [
    "results = model.recommend()"
   ]
  },
  {
   "cell_type": "code",
   "execution_count": 99,
   "metadata": {
    "collapsed": true,
    "jupyter": {
     "outputs_hidden": true
    }
   },
   "outputs": [
    {
     "name": "stdout",
     "output_type": "stream",
     "text": [
      "Visited Blogs:\n",
      "car-loan-tax-benefits-and-how-to-claim-it\n",
      "\n",
      "Predicted Blogs:\n",
      "how-to-get-a-car-loan-online-in-easy-steps\n",
      "5-reasons-why-car-insurance-is-a-must\n",
      "pre-approved-for-car-loan\n",
      "things-to-consider-before-applying-for-car-loan\n",
      "tax-benefits-on-loan-against-property\n",
      "life-insurance-a-smart-investment-for-uncertain-times\n",
      "can-get-car-loan-second-hand-car\n",
      "tax-saving-fixed-deposits\n",
      "types-of-savings-account\n",
      "5-reasons-to-review-your-life-insurance-cover\n"
     ]
    }
   ],
   "source": [
    "clientid = \"1000040434.1634360262\"\n",
    "visitied_blogs = rating_df[rating_df['clientId'] == clientid]['blog'].values.tolist()\n",
    "predicted_blogs = results[\n",
    "    results['clientId'] == clientid\n",
    "]['blog']\n",
    "\n",
    "print(\"Visited Blogs:\\n{}\\n\".format(\"\\n\".join(visitied_blogs)))\n",
    "print(\"Predicted Blogs:\\n{}\".format(\"\\n\".join(predicted_blogs)))"
   ]
  },
  {
   "cell_type": "code",
   "execution_count": 115,
   "metadata": {},
   "outputs": [],
   "source": [
    "asd= asd.groupby(\"clientId\")['blog'].apply(list).reset_index()"
   ]
  },
  {
   "cell_type": "code",
   "execution_count": 140,
   "metadata": {},
   "outputs": [],
   "source": []
  },
  {
   "cell_type": "code",
   "execution_count": 10,
   "metadata": {},
   "outputs": [],
   "source": [
    "q = results.to_dataframe()"
   ]
  },
  {
   "cell_type": "code",
   "execution_count": 11,
   "metadata": {},
   "outputs": [
    {
     "data": {
      "text/html": [
       "<div>\n",
       "<style scoped>\n",
       "    .dataframe tbody tr th:only-of-type {\n",
       "        vertical-align: middle;\n",
       "    }\n",
       "\n",
       "    .dataframe tbody tr th {\n",
       "        vertical-align: top;\n",
       "    }\n",
       "\n",
       "    .dataframe thead th {\n",
       "        text-align: right;\n",
       "    }\n",
       "</style>\n",
       "<table border=\"1\" class=\"dataframe\">\n",
       "  <thead>\n",
       "    <tr style=\"text-align: right;\">\n",
       "      <th></th>\n",
       "      <th>blog</th>\n",
       "      <th>pagepath</th>\n",
       "      <th>rating</th>\n",
       "      <th>clientId</th>\n",
       "    </tr>\n",
       "  </thead>\n",
       "  <tbody>\n",
       "    <tr>\n",
       "      <th>0</th>\n",
       "      <td>national-pension-scheme-and-nps-work</td>\n",
       "      <td>/blogs/miscellaneous/national-pension-scheme-a...</td>\n",
       "      <td>0.282959</td>\n",
       "      <td>1000085904.1632291810</td>\n",
       "    </tr>\n",
       "    <tr>\n",
       "      <th>1</th>\n",
       "      <td>investing-in-nps-for-retirement-saving</td>\n",
       "      <td>/blogs/nps/investing-in-nps-for-retirement-sav...</td>\n",
       "      <td>0.929877</td>\n",
       "      <td>1000085904.1632291810</td>\n",
       "    </tr>\n",
       "    <tr>\n",
       "      <th>2</th>\n",
       "      <td>what-is-the-mclr-and-how-does-it-affect-the-ec...</td>\n",
       "      <td>/blogs/personal-loan/what-is-the-mclr-and-how-...</td>\n",
       "      <td>0.035423</td>\n",
       "      <td>1000168273.1633060672</td>\n",
       "    </tr>\n",
       "    <tr>\n",
       "      <th>3</th>\n",
       "      <td>do-you-use-credit-card-know-the-pros-and-cons</td>\n",
       "      <td>/blogs/credit-card/do-you-use-credit-card-know...</td>\n",
       "      <td>0.833788</td>\n",
       "      <td>1000238702.1633184250</td>\n",
       "    </tr>\n",
       "    <tr>\n",
       "      <th>4</th>\n",
       "      <td>what-is-home-loan</td>\n",
       "      <td>/blogs/home-loan/what-is-home-loan.page</td>\n",
       "      <td>0.639788</td>\n",
       "      <td>1000300182.1633274296</td>\n",
       "    </tr>\n",
       "  </tbody>\n",
       "</table>\n",
       "</div>"
      ],
      "text/plain": [
       "                                                blog  \\\n",
       "0               national-pension-scheme-and-nps-work   \n",
       "1             investing-in-nps-for-retirement-saving   \n",
       "2  what-is-the-mclr-and-how-does-it-affect-the-ec...   \n",
       "3      do-you-use-credit-card-know-the-pros-and-cons   \n",
       "4                                  what-is-home-loan   \n",
       "\n",
       "                                            pagepath    rating  \\\n",
       "0  /blogs/miscellaneous/national-pension-scheme-a...  0.282959   \n",
       "1  /blogs/nps/investing-in-nps-for-retirement-sav...  0.929877   \n",
       "2  /blogs/personal-loan/what-is-the-mclr-and-how-...  0.035423   \n",
       "3  /blogs/credit-card/do-you-use-credit-card-know...  0.833788   \n",
       "4            /blogs/home-loan/what-is-home-loan.page  0.639788   \n",
       "\n",
       "                clientId  \n",
       "0  1000085904.1632291810  \n",
       "1  1000085904.1632291810  \n",
       "2  1000168273.1633060672  \n",
       "3  1000238702.1633184250  \n",
       "4  1000300182.1633274296  "
      ]
     },
     "execution_count": 11,
     "metadata": {},
     "output_type": "execute_result"
    }
   ],
   "source": [
    "main_rating_df[\"clientId\"] = main_rating_df['clientId'].apply(lambda x: x.lstrip(\"'\")) \n",
    "main_rating_df.head()"
   ]
  },
  {
   "cell_type": "code",
   "execution_count": 31,
   "metadata": {},
   "outputs": [],
   "source": [
    "blog_tags = main_rating_df[['blog', 'pagepath']]\n",
    "blog_tags = blog_tags.drop_duplicates().reset_index(drop=True)"
   ]
  },
  {
   "cell_type": "code",
   "execution_count": 40,
   "metadata": {},
   "outputs": [],
   "source": [
    "asd = pd.merge(\n",
    "    left=q,\n",
    "    right=blog_tags,\n",
    "    on=['blog'],\n",
    "    how='left'\n",
    ")"
   ]
  },
  {
   "cell_type": "code",
   "execution_count": 41,
   "metadata": {},
   "outputs": [],
   "source": [
    "asd_1= asd.groupby(\"clientId\")['pagepath'].apply(list).reset_index()"
   ]
  },
  {
   "cell_type": "code",
   "execution_count": 43,
   "metadata": {},
   "outputs": [
    {
     "data": {
      "text/html": [
       "<div>\n",
       "<style scoped>\n",
       "    .dataframe tbody tr th:only-of-type {\n",
       "        vertical-align: middle;\n",
       "    }\n",
       "\n",
       "    .dataframe tbody tr th {\n",
       "        vertical-align: top;\n",
       "    }\n",
       "\n",
       "    .dataframe thead th {\n",
       "        text-align: right;\n",
       "    }\n",
       "</style>\n",
       "<table border=\"1\" class=\"dataframe\">\n",
       "  <thead>\n",
       "    <tr style=\"text-align: right;\">\n",
       "      <th></th>\n",
       "      <th>clientId</th>\n",
       "      <th>blog</th>\n",
       "      <th>score</th>\n",
       "      <th>rank</th>\n",
       "      <th>pagepath</th>\n",
       "    </tr>\n",
       "  </thead>\n",
       "  <tbody>\n",
       "    <tr>\n",
       "      <th>0</th>\n",
       "      <td>1000040434.1634360262</td>\n",
       "      <td>how-to-get-a-car-loan-online-in-easy-steps</td>\n",
       "      <td>0.015504</td>\n",
       "      <td>1</td>\n",
       "      <td>/blogs/car-loan/how-to-get-a-car-loan-online-i...</td>\n",
       "    </tr>\n",
       "    <tr>\n",
       "      <th>1</th>\n",
       "      <td>1000040434.1634360262</td>\n",
       "      <td>5-reasons-why-car-insurance-is-a-must</td>\n",
       "      <td>0.009486</td>\n",
       "      <td>2</td>\n",
       "      <td>/blogs/car-loan/5-reasons-why-car-insurance-is...</td>\n",
       "    </tr>\n",
       "    <tr>\n",
       "      <th>2</th>\n",
       "      <td>1000040434.1634360262</td>\n",
       "      <td>pre-approved-for-car-loan</td>\n",
       "      <td>0.004566</td>\n",
       "      <td>3</td>\n",
       "      <td>/blogs/loan/pre-approved-for-car-loan.page</td>\n",
       "    </tr>\n",
       "    <tr>\n",
       "      <th>3</th>\n",
       "      <td>1000040434.1634360262</td>\n",
       "      <td>things-to-consider-before-applying-for-car-loan</td>\n",
       "      <td>0.004188</td>\n",
       "      <td>4</td>\n",
       "      <td>/blogs/loan/things-to-consider-before-applying...</td>\n",
       "    </tr>\n",
       "    <tr>\n",
       "      <th>4</th>\n",
       "      <td>1000040434.1634360262</td>\n",
       "      <td>tax-benefits-on-loan-against-property</td>\n",
       "      <td>0.002347</td>\n",
       "      <td>5</td>\n",
       "      <td>/blogs/home-loan/tax-benefits-on-loan-against-...</td>\n",
       "    </tr>\n",
       "    <tr>\n",
       "      <th>5</th>\n",
       "      <td>1000040434.1634360262</td>\n",
       "      <td>life-insurance-a-smart-investment-for-uncertai...</td>\n",
       "      <td>0.001654</td>\n",
       "      <td>6</td>\n",
       "      <td>/blogs/life-insurance/life-insurance-a-smart-i...</td>\n",
       "    </tr>\n",
       "    <tr>\n",
       "      <th>6</th>\n",
       "      <td>1000040434.1634360262</td>\n",
       "      <td>can-get-car-loan-second-hand-car</td>\n",
       "      <td>0.001629</td>\n",
       "      <td>7</td>\n",
       "      <td>/blogs/loan/can-get-car-loan-second-hand-car.page</td>\n",
       "    </tr>\n",
       "    <tr>\n",
       "      <th>7</th>\n",
       "      <td>1000040434.1634360262</td>\n",
       "      <td>tax-saving-fixed-deposits</td>\n",
       "      <td>0.001512</td>\n",
       "      <td>8</td>\n",
       "      <td>/blogs/fixed-deposits/tax-saving-fixed-deposit...</td>\n",
       "    </tr>\n",
       "    <tr>\n",
       "      <th>8</th>\n",
       "      <td>1000040434.1634360262</td>\n",
       "      <td>types-of-savings-account</td>\n",
       "      <td>0.001020</td>\n",
       "      <td>9</td>\n",
       "      <td>/blogs/saving-account/types-of-savings-account...</td>\n",
       "    </tr>\n",
       "    <tr>\n",
       "      <th>9</th>\n",
       "      <td>1000040434.1634360262</td>\n",
       "      <td>5-reasons-to-review-your-life-insurance-cover</td>\n",
       "      <td>0.000845</td>\n",
       "      <td>10</td>\n",
       "      <td>/blogs/life-insurance/5-reasons-to-review-your...</td>\n",
       "    </tr>\n",
       "  </tbody>\n",
       "</table>\n",
       "</div>"
      ],
      "text/plain": [
       "                clientId                                               blog  \\\n",
       "0  1000040434.1634360262         how-to-get-a-car-loan-online-in-easy-steps   \n",
       "1  1000040434.1634360262              5-reasons-why-car-insurance-is-a-must   \n",
       "2  1000040434.1634360262                          pre-approved-for-car-loan   \n",
       "3  1000040434.1634360262    things-to-consider-before-applying-for-car-loan   \n",
       "4  1000040434.1634360262              tax-benefits-on-loan-against-property   \n",
       "5  1000040434.1634360262  life-insurance-a-smart-investment-for-uncertai...   \n",
       "6  1000040434.1634360262                   can-get-car-loan-second-hand-car   \n",
       "7  1000040434.1634360262                          tax-saving-fixed-deposits   \n",
       "8  1000040434.1634360262                           types-of-savings-account   \n",
       "9  1000040434.1634360262      5-reasons-to-review-your-life-insurance-cover   \n",
       "\n",
       "      score  rank                                           pagepath  \n",
       "0  0.015504     1  /blogs/car-loan/how-to-get-a-car-loan-online-i...  \n",
       "1  0.009486     2  /blogs/car-loan/5-reasons-why-car-insurance-is...  \n",
       "2  0.004566     3         /blogs/loan/pre-approved-for-car-loan.page  \n",
       "3  0.004188     4  /blogs/loan/things-to-consider-before-applying...  \n",
       "4  0.002347     5  /blogs/home-loan/tax-benefits-on-loan-against-...  \n",
       "5  0.001654     6  /blogs/life-insurance/life-insurance-a-smart-i...  \n",
       "6  0.001629     7  /blogs/loan/can-get-car-loan-second-hand-car.page  \n",
       "7  0.001512     8  /blogs/fixed-deposits/tax-saving-fixed-deposit...  \n",
       "8  0.001020     9  /blogs/saving-account/types-of-savings-account...  \n",
       "9  0.000845    10  /blogs/life-insurance/5-reasons-to-review-your...  "
      ]
     },
     "execution_count": 43,
     "metadata": {},
     "output_type": "execute_result"
    }
   ],
   "source": [
    "asd[asd['clientId']=='1000040434.1634360262']"
   ]
  },
  {
   "cell_type": "code",
   "execution_count": 58,
   "metadata": {},
   "outputs": [
    {
     "name": "stderr",
     "output_type": "stream",
     "text": [
      "66922it [00:16, 3985.07it/s]\n"
     ]
    }
   ],
   "source": [
    "from tqdm import tqdm\n",
    "\n",
    "PARENT_FOLDER = \"recommended_blogs\"\n",
    "shutil.rmtree(PARENT_FOLDER, ignore_errors=True)\n",
    "os.makedirs(PARENT_FOLDER, exist_ok=True)\n",
    "\n",
    "for row in tqdm(asd_1.iterrows()):\n",
    "    clientid = row[1].clientId\n",
    "    path = os.path.join(PARENT_FOLDER, clientid + \".json\")\n",
    "    reco_blog = {}\n",
    "    reco_blog['recommended'] = row[1].pagepath\n",
    "    with open(path, 'w') as f:\n",
    "        f.write(json.dumps(reco_blog))"
   ]
  },
  {
   "cell_type": "code",
   "execution_count": 55,
   "metadata": {},
   "outputs": [
    {
     "name": "stdout",
     "output_type": "stream",
     "text": [
      "1000040434.1634360262\n",
      "['/blogs/car-loan/how-to-get-a-car-loan-online-in-easy-steps.page', '/blogs/car-loan/5-reasons-why-car-insurance-is-a-must.page', '/blogs/loan/pre-approved-for-car-loan.page', '/blogs/loan/things-to-consider-before-applying-for-car-loan.page', '/blogs/home-loan/tax-benefits-on-loan-against-property.page', '/blogs/life-insurance/life-insurance-a-smart-investment-for-uncertain-times.page', '/blogs/loan/can-get-car-loan-second-hand-car.page', '/blogs/fixed-deposits/tax-saving-fixed-deposits.page', '/blogs/saving-account/types-of-savings-account.page', '/blogs/life-insurance/5-reasons-to-review-your-life-insurance-cover.page']\n",
      "1000085904.1632291810\n",
      "['/blogs/investment/is_it_good_idea_to_invest_in_national_pension_scheme.page', '/blogs/nps/nps-tax-benefits.page', '/blogs/nps/nps-returns.page', '/blogs/nps/save-tax-with-nps.page', '/blogs/nps/everything-you-need-to-know-about-nps.page', '/blogs/personal-loan/advantages-of-personal-loan-to-raise-funds.page', '/blogs/investment/5-reasons-to-open-a-ppf-account.page', '/blogs/pension-schemes/how-to-track-contributions-made-to-atal-pension-yojana.page', '/blogs/deposits/iWish-flexible-RD-vs-fixed-deposit.page', '/blogs/personal-loan/manage-your-unplanned-expenses-with-an-affordable-personal-loan.page']\n",
      "1000111069.1632671843\n",
      "['/blogs/home-loan/how-much-time-does-it-take-to-get-pmay-subsidy.page', '/blogs/home-loan/what-is-home-loan.page', '/blogs/home-loan/how_your_credit_score_can_impact_your_home_loan.page', '/blogs/home-loan/home-loan-tax-benefits-under-section-24.page', '/blogs/home-loan/fastest-way-sanction-home-loan-instant-home-loan.page', '/blogs/home-loan/buying-a-home-or-renting-a-house-what-is-better-for-you.page', '/blogs/loan/how-to-save-tax-from-home-loan.page', '/blogs/home-loan/stamping-and-franking-charges-on-home-loans-know-the-difference.page', '/blogs/loan/benefits-of-pre-approved-home-loans.page', '/blogs/home-loan/home-loan-sanction-without-documentation.page']\n",
      "1000111210.1632226126\n",
      "['/blogs/cards/apply-for-credit-card-online.page', '/blogs/credit-card/understanding-what-is-credit-card-and-how-to-use-it-smartly.page', '/blogs/credit-card/5-reasons-to-use-a-credit-card.page', '/blogs/taxation/how-to-save-yourself-from-income-tax-notices-on-credit-card.page', '/blogs/credit-card/knowing-the-difference-between-visa-mastercard-rupay-american-express-debit-credit-card.page', '/blogs/paylater/how-to-activate-and-use-paylater-account.page', '/blogs/credit-card/common-credit-card-myths.page', '/blogs/credit-card/hidden-benefits-of-having-credit-card.page', '/blogs/credit-card/benefits-of-using-travel-credit-card.page', '/blogs/credit-card/can-i-apply-for-a-credit-card-online.page']\n",
      "1000111848.1632630607\n",
      "['/blogs/deposits/flexible-recurring-deposit-advantages.page', '/blogs/fixed-deposits/how-to-build-an-emergency-fund.page', '/blogs/saving-account/types-of-savings-account.page', '/blogs/fixed-deposits/tax-deduction-on-fixed-deposit.page', '/blogs/saving-account/one-savings-account.page', '/blogs/investment/senior-citizen-savings-scheme-tax-benefits.page', '/blogs/banking-innovation/step-how-to-open-nps-account.page', '/blogs/banking-innovation/step-how-to-open-NPS-account.page', '/blogs/fixed-deposits/tax-saver-fd-benefits.page', '/blogs/fixed-deposits/tax-saving-fixed-deposits.page', '/blogs/iwish/the-importance-of-setting-financial-goals.page']\n",
      "1000112856.1633922285\n",
      "['/blogs/taxation/pay-tax-through-credit-cards.page', '/blogs/credit-card/credit-card-eligibility-criteria.page', '/blogs/loan/how-to-get-easy-loans-for-quick-money.page', '/blogs/taxation/beginner-guide-on-gst.page', '/blogs/banking-innovation/nfc-the-future-banking.page', '/blogs/taxation/income-tax-return-filing-benefits.page', '/blogs/smart-banking/banking-gets-social.page', '/blogs/pension-schemes/pension-plan-to-secure-your-retirement.page', '/blogs/festive-season/recurring-deposit-for-festive-season.page', '/blogs/taxation/union-budget-tax-exemption-for-senior-citizens.page']\n",
      "1000138711.1632472165\n",
      "['/blogs/saving-account/one-savings-account.page', '/blogs/saving-account/current-account-vs-savings-account.page', '/blogs/saving-account/benefits-of-insta-save-fd-account.page', '/blogs/investment/advantages-disadvantages-savings-account.page', '/blogs/current-account/how-to-open-current-account-online.page', '/blogs/current-account/current-account-benefits.page', '/blogs/fixed-deposits/tax-saver-fd-benefits.page', '/blogs/internet-banking/know-the-importance-of-digital-banking.page', '/blogs/fixed-deposits/knowing-the-benefits-of-investing-in-flexi-fixed-deposit.page', '/blogs/fixed-deposits/tax-saving-fixed-deposits.page']\n",
      "10001511.1632998627\n",
      "['/blogs/loan/what-is-loan-prepayment-and-how-it-works.page', '/blogs/personal-loan/understanding-personal-loan-disbursement-process.page', '/blogs/personal-loan/flexi-personal-loan.page', '/blogs/personal-loan/can-you-get-a-second-personal-loan.page', '/blogs/personal-loan/personal-loan-from-the-comfort-of-your-home.page', '/blogs/personal-loan/how-to-get-approval-for-personal-loans-for-low-salaried-professionals.page', '/blogs/personal-loan/personal-loan-or-a-credit-card-which-is-better-for-travelling.page', '/blogs/credit-card/everything-you-need-to-know-about-credit-card-interest-rates.page', '/blogs/loan/benefits-of-pre-approved-home-loans.page', '/blogs/home-loan/five-things-to-consider-before-transferring-home-loan.page']\n",
      "1000166440.1634545042\n",
      "['/blogs/credit-card/credit-card-payment-procedure.page', '/blogs/credit-card/credit-card-charges.page', '/blogs/credit-card/how-do-cashback-credit-cards-work.page', '/blogs/credit-card/loan-on-credit-card.page', '/blogs/credit-card/5-reasons-to-use-a-credit-card.page', '/blogs/credit-card/how-to-convert-credit-card-purchases-into-emis.page', '/blogs/credit-card/how-to-reverse-credit-card-transaction.page', '/blogs/debit-card/how-to-activate-new-atm-card-online.page', '/blogs/credit-card/hidden-benefits-of-having-credit-card.page', '/blogs/personal-finance/cheerful-chellam.page']\n",
      "1000168273.1633060672\n",
      "['/blogs/personal-loan/can-I-get-a-personal-loan-online.page', '/blogs/loan/how-to-get-easy-loans-housing-finance.page', '/blogs/personal-loan/make-your-dream-wedding-a-reality-with-personal-loan.page', '/blogs/fastag/benefits-of-fastag.page', '/blogs/FASTag/benefits-of-FASTag.page', '/blogs/personal-loan/personal-loan-or-a-credit-card-which-is-better-for-travelling.page', '/blogs/FASTag/benefits-of-using-fastag.page', '/blogs/fastag/benefits-of-using-fastag.page', '/blogs/personal-loan/can-homemakers-start-a-business-with-a-personal-loan.page', '/blogs/home-loan/difference-between-co-signer-and-co-applicant.page', '/blogs/home-loan/agreement-to-sell-definition.page', '/blogs/home-loan/overdraft-facility.page', '/blogs/financial-advisor/overdraft-facility.page']\n"
     ]
    }
   ],
   "source": [
    "count = 0\n",
    "for row in asd_1.iterrows():\n",
    "    print(row[1].clientId)\n",
    "    print(row[1].pagepath)\n",
    "    count += 1\n",
    "    if count == 10:\n",
    "        break"
   ]
  },
  {
   "cell_type": "code",
   "execution_count": null,
   "metadata": {},
   "outputs": [],
   "source": []
  }
 ],
 "metadata": {
  "environment": {
   "name": "tf2-gpu.2-1.m50",
   "type": "gcloud",
   "uri": "gcr.io/deeplearning-platform-release/tf2-gpu.2-1:m50"
  },
  "kernelspec": {
   "display_name": "Python 3",
   "language": "python",
   "name": "python3"
  },
  "language_info": {
   "codemirror_mode": {
    "name": "ipython",
    "version": 3
   },
   "file_extension": ".py",
   "mimetype": "text/x-python",
   "name": "python",
   "nbconvert_exporter": "python",
   "pygments_lexer": "ipython3",
   "version": "3.7.6"
  }
 },
 "nbformat": 4,
 "nbformat_minor": 4
}
